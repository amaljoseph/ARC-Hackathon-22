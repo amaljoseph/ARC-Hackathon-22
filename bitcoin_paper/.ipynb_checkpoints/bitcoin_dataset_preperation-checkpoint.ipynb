{
 "cells": [
  {
   "cell_type": "code",
   "execution_count": 1,
   "id": "b2e21323-76fb-49e7-9114-4c02272817ee",
   "metadata": {},
   "outputs": [],
   "source": [
    "import pandas as pd\n",
    "\n",
    "bitcoin_df = pd.read_csv('bitstampUSD_1-min_data_2012-01-01_to_2021-03-31.csv')"
   ]
  },
  {
   "cell_type": "code",
   "execution_count": 2,
   "id": "e8d51ae8-cd45-4d1e-a396-67253fed997c",
   "metadata": {},
   "outputs": [],
   "source": [
    "bitcoin_df.rename(columns={'Timestamp': 'timestamp'}, inplace=True)"
   ]
  },
  {
   "cell_type": "code",
   "execution_count": 3,
   "id": "9e76f30c-dc2d-43a3-810b-f8e180938e0d",
   "metadata": {},
   "outputs": [
    {
     "data": {
      "text/plain": [
       "Index(['timestamp', 'Open', 'High', 'Low', 'Close', 'Volume_(BTC)',\n",
       "       'Volume_(Currency)', 'Weighted_Price'],\n",
       "      dtype='object')"
      ]
     },
     "execution_count": 3,
     "metadata": {},
     "output_type": "execute_result"
    }
   ],
   "source": [
    "bitcoin_df.columns"
   ]
  },
  {
   "cell_type": "markdown",
   "id": "bc3bb98a-ccff-46f6-ab0a-e7125cf74d7e",
   "metadata": {},
   "source": [
    "## Preprocessing"
   ]
  },
  {
   "cell_type": "markdown",
   "id": "8ee39a75-f966-4c96-8b0b-fcf932e6a73b",
   "metadata": {},
   "source": [
    "#### Removing datapoints where no BTC transaction has occured."
   ]
  },
  {
   "cell_type": "code",
   "execution_count": 4,
   "id": "e7327c6d-147b-4a91-b42c-03a39410768a",
   "metadata": {},
   "outputs": [
    {
     "name": "stdout",
     "output_type": "stream",
     "text": [
      "(4857377, 8)\n",
      "(3613769, 8)\n"
     ]
    }
   ],
   "source": [
    "print(bitcoin_df.shape)\n",
    "bitcoin_df.dropna(subset=['Volume_(BTC)'], axis=0, inplace=True)\n",
    "print(bitcoin_df.shape)"
   ]
  },
  {
   "cell_type": "code",
   "execution_count": 5,
   "id": "5910a997-dffb-4488-8a3d-93069ffc1ada",
   "metadata": {
    "tags": []
   },
   "outputs": [
    {
     "data": {
      "text/html": [
       "<div>\n",
       "<style scoped>\n",
       "    .dataframe tbody tr th:only-of-type {\n",
       "        vertical-align: middle;\n",
       "    }\n",
       "\n",
       "    .dataframe tbody tr th {\n",
       "        vertical-align: top;\n",
       "    }\n",
       "\n",
       "    .dataframe thead th {\n",
       "        text-align: right;\n",
       "    }\n",
       "</style>\n",
       "<table border=\"1\" class=\"dataframe\">\n",
       "  <thead>\n",
       "    <tr style=\"text-align: right;\">\n",
       "      <th></th>\n",
       "      <th>timestamp</th>\n",
       "      <th>Open</th>\n",
       "      <th>High</th>\n",
       "      <th>Low</th>\n",
       "      <th>Close</th>\n",
       "      <th>Volume_(BTC)</th>\n",
       "      <th>Volume_(Currency)</th>\n",
       "      <th>Weighted_Price</th>\n",
       "    </tr>\n",
       "  </thead>\n",
       "  <tbody>\n",
       "    <tr>\n",
       "      <th>0</th>\n",
       "      <td>2011-12-31 07:52:00</td>\n",
       "      <td>4.39</td>\n",
       "      <td>4.39</td>\n",
       "      <td>4.39</td>\n",
       "      <td>4.39</td>\n",
       "      <td>0.455581</td>\n",
       "      <td>2.00</td>\n",
       "      <td>4.39</td>\n",
       "    </tr>\n",
       "    <tr>\n",
       "      <th>478</th>\n",
       "      <td>2011-12-31 15:50:00</td>\n",
       "      <td>4.39</td>\n",
       "      <td>4.39</td>\n",
       "      <td>4.39</td>\n",
       "      <td>4.39</td>\n",
       "      <td>48.000000</td>\n",
       "      <td>210.72</td>\n",
       "      <td>4.39</td>\n",
       "    </tr>\n",
       "  </tbody>\n",
       "</table>\n",
       "</div>"
      ],
      "text/plain": [
       "               timestamp  Open  High   Low  Close  Volume_(BTC)  \\\n",
       "0    2011-12-31 07:52:00  4.39  4.39  4.39   4.39      0.455581   \n",
       "478  2011-12-31 15:50:00  4.39  4.39  4.39   4.39     48.000000   \n",
       "\n",
       "     Volume_(Currency)  Weighted_Price  \n",
       "0                 2.00            4.39  \n",
       "478             210.72            4.39  "
      ]
     },
     "execution_count": 5,
     "metadata": {},
     "output_type": "execute_result"
    }
   ],
   "source": [
    "# Convert Unixtime to standard dateformat\n",
    "bitcoin_df['timestamp'] = pd.to_datetime(bitcoin_df.timestamp, unit='s').dt.strftime('%Y-%m-%d %H:%M:%S')\n",
    "bitcoin_df.head(2)"
   ]
  },
  {
   "cell_type": "code",
   "execution_count": 6,
   "id": "3594153a-db78-421f-b3ec-7b396a18265d",
   "metadata": {},
   "outputs": [],
   "source": [
    "\n",
    "bitcoin_df = bitcoin_df[((bitcoin_df.timestamp >= '2016-01-01 00:00:00') & (bitcoin_df.timestamp <= '2018-12-31 23:59:59'))]\n",
    "# Binning/Stratifying the timestamps into hours or days.\n",
    "bitcoin_df['bt_day_interval'] = pd.to_datetime(bitcoin_df.timestamp).dt.floor('D')\n",
    "bitcoin_df['bt_hour_interval'] = pd.to_datetime(bitcoin_df.timestamp).dt.floor('H')"
   ]
  },
  {
   "cell_type": "code",
   "execution_count": 13,
   "id": "67a71147-58f6-42a2-b0cf-70bdeca136ea",
   "metadata": {},
   "outputs": [
    {
     "data": {
      "text/html": [
       "<div>\n",
       "<style scoped>\n",
       "    .dataframe tbody tr th:only-of-type {\n",
       "        vertical-align: middle;\n",
       "    }\n",
       "\n",
       "    .dataframe tbody tr th {\n",
       "        vertical-align: top;\n",
       "    }\n",
       "\n",
       "    .dataframe thead th {\n",
       "        text-align: right;\n",
       "    }\n",
       "</style>\n",
       "<table border=\"1\" class=\"dataframe\">\n",
       "  <thead>\n",
       "    <tr style=\"text-align: right;\">\n",
       "      <th></th>\n",
       "      <th>timestamp</th>\n",
       "      <th>Open</th>\n",
       "      <th>High</th>\n",
       "      <th>Low</th>\n",
       "      <th>Close</th>\n",
       "      <th>Volume_(BTC)</th>\n",
       "      <th>Volume_(Currency)</th>\n",
       "      <th>Weighted_Price</th>\n",
       "      <th>bt_day_interval</th>\n",
       "      <th>bt_hour_interval</th>\n",
       "    </tr>\n",
       "  </thead>\n",
       "  <tbody>\n",
       "    <tr>\n",
       "      <th>3670815</th>\n",
       "      <td>2018-12-27 23:59:00</td>\n",
       "      <td>3591.69</td>\n",
       "      <td>3591.69</td>\n",
       "      <td>3590.26</td>\n",
       "      <td>3591.69</td>\n",
       "      <td>1.745821</td>\n",
       "      <td>6270.426764</td>\n",
       "      <td>3591.677812</td>\n",
       "      <td>2018-12-27</td>\n",
       "      <td>2018-12-27 23:00:00</td>\n",
       "    </tr>\n",
       "  </tbody>\n",
       "</table>\n",
       "</div>"
      ],
      "text/plain": [
       "                   timestamp     Open     High      Low    Close  \\\n",
       "3670815  2018-12-27 23:59:00  3591.69  3591.69  3590.26  3591.69   \n",
       "\n",
       "         Volume_(BTC)  Volume_(Currency)  Weighted_Price bt_day_interval  \\\n",
       "3670815      1.745821        6270.426764     3591.677812      2018-12-27   \n",
       "\n",
       "           bt_hour_interval  \n",
       "3670815 2018-12-27 23:00:00  "
      ]
     },
     "execution_count": 13,
     "metadata": {},
     "output_type": "execute_result"
    }
   ],
   "source": [
    "df.groupby(['Type'])['Name'].apply(lambda grp: list(grp.value_counts().index)).to_dict()"
   ]
  },
  {
   "cell_type": "code",
   "execution_count": 46,
   "id": "03745cd7-507b-41de-bb68-ac03134c09b4",
   "metadata": {},
   "outputs": [],
   "source": [
    "last_time_dict = \n"
   ]
  },
  {
   "cell_type": "code",
   "execution_count": 56,
   "id": "a27966cc-11ef-45f8-bf4f-85718b23a578",
   "metadata": {
    "tags": []
   },
   "outputs": [],
   "source": [
    "close_price_dict = {}\n",
    "for key, value in dict(bitcoin_df.groupby(['bt_day_interval'])['timestamp'].max()).items():\n",
    "    close_price_dict[key] = bitcoin_df[bitcoin_df.timestamp == value].Close"
   ]
  },
  {
   "cell_type": "code",
   "execution_count": null,
   "id": "d7f54fa9-61b7-43fe-b252-8a93a78a77d0",
   "metadata": {},
   "outputs": [],
   "source": [
    "close_price_dict[\"Timestamp('2016-01-01 00:00:00')\"]"
   ]
  },
  {
   "cell_type": "code",
   "execution_count": 70,
   "id": "d665cc72-9952-4e82-9e9e-0a07ce90b549",
   "metadata": {},
   "outputs": [
    {
     "name": "stdout",
     "output_type": "stream",
     "text": [
      "<bound method IndexOpsMixin.item of 2099775    433.82\n",
      "Name: Close, dtype: float64>\n"
     ]
    }
   ],
   "source": [
    "for key, value in dict(bitcoin_df.groupby(['bt_day_interval'])['timestamp'].max()).items():\n",
    "    print(bitcoin_df[bitcoin_df.timestamp == value].Close.item)\n",
    "    break"
   ]
  },
  {
   "cell_type": "code",
   "execution_count": 71,
   "id": "d65e62b7-ed00-4a29-a958-394f1a0b9adc",
   "metadata": {},
   "outputs": [
    {
     "data": {
      "text/plain": [
       "bt_day_interval\n",
       "2016-01-01    2016-01-01 23:59:00\n",
       "2016-01-02    2016-01-02 23:58:00\n",
       "2016-01-03    2016-01-03 23:59:00\n",
       "2016-01-04    2016-01-04 23:59:00\n",
       "2016-01-05    2016-01-05 23:59:00\n",
       "                     ...         \n",
       "2018-12-27    2018-12-27 23:59:00\n",
       "2018-12-28    2018-12-28 23:59:00\n",
       "2018-12-29    2018-12-29 23:59:00\n",
       "2018-12-30    2018-12-30 23:59:00\n",
       "2018-12-31    2018-12-31 23:59:00\n",
       "Name: timestamp, Length: 1096, dtype: object"
      ]
     },
     "execution_count": 71,
     "metadata": {},
     "output_type": "execute_result"
    }
   ],
   "source": [
    "bitcoin_df.groupby(['bt_day_interval'])['timestamp'].max()"
   ]
  },
  {
   "cell_type": "code",
   "execution_count": 75,
   "id": "ccc7caf4-6adb-41b0-9766-a4e4182765f9",
   "metadata": {},
   "outputs": [
    {
     "name": "stdout",
     "output_type": "stream",
     "text": [
      "2016-01-01 00:00:00 2016-01-01 23:59:00\n",
      "2099775    433.82\n",
      "Name: Close, dtype: float64\n"
     ]
    }
   ],
   "source": [
    "for key, value in dict(bitcoin_df.groupby(['bt_day_interval'])['timestamp'].max()).items():\n",
    "    print(key, value)\n",
    "    print(bitcoin_df[bitcoin_df.timestamp == value].Close)\n",
    "    break"
   ]
  },
  {
   "cell_type": "code",
   "execution_count": null,
   "id": "904c7e64-0b57-407d-a7f4-4a09ae14c6c2",
   "metadata": {},
   "outputs": [],
   "source": []
  }
 ],
 "metadata": {
  "kernelspec": {
   "display_name": "hackathon22",
   "language": "python",
   "name": "hackathon22"
  },
  "language_info": {
   "codemirror_mode": {
    "name": "ipython",
    "version": 3
   },
   "file_extension": ".py",
   "mimetype": "text/x-python",
   "name": "python",
   "nbconvert_exporter": "python",
   "pygments_lexer": "ipython3",
   "version": "3.7.13"
  }
 },
 "nbformat": 4,
 "nbformat_minor": 5
}
