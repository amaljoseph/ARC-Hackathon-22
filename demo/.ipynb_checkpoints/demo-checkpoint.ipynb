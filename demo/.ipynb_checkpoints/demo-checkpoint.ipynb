{
 "cells": [
  {
   "cell_type": "markdown",
   "id": "b6af06d3-e365-4fa5-a158-5259c4c6441f",
   "metadata": {},
   "source": [
    "## Loading Tweets dataset"
   ]
  },
  {
   "cell_type": "code",
   "execution_count": 1,
   "id": "7619bcfa-6622-4f99-8abc-82c0b1ae4b07",
   "metadata": {},
   "outputs": [
    {
     "data": {
      "text/html": [
       "<div>\n",
       "<style scoped>\n",
       "    .dataframe tbody tr th:only-of-type {\n",
       "        vertical-align: middle;\n",
       "    }\n",
       "\n",
       "    .dataframe tbody tr th {\n",
       "        vertical-align: top;\n",
       "    }\n",
       "\n",
       "    .dataframe thead th {\n",
       "        text-align: right;\n",
       "    }\n",
       "</style>\n",
       "<table border=\"1\" class=\"dataframe\">\n",
       "  <thead>\n",
       "    <tr style=\"text-align: right;\">\n",
       "      <th></th>\n",
       "      <th>user_name</th>\n",
       "      <th>user_location</th>\n",
       "      <th>user_description</th>\n",
       "      <th>user_created</th>\n",
       "      <th>user_followers</th>\n",
       "      <th>user_friends</th>\n",
       "      <th>user_favourites</th>\n",
       "      <th>user_verified</th>\n",
       "      <th>date</th>\n",
       "      <th>text</th>\n",
       "      <th>hashtags</th>\n",
       "      <th>source</th>\n",
       "      <th>is_retweet</th>\n",
       "    </tr>\n",
       "  </thead>\n",
       "  <tbody>\n",
       "    <tr>\n",
       "      <th>0</th>\n",
       "      <td>DeSota Wilson</td>\n",
       "      <td>Atlanta, GA</td>\n",
       "      <td>Biz Consultant, real estate, fintech, startups...</td>\n",
       "      <td>2009-04-26 20:05:09</td>\n",
       "      <td>8534.0</td>\n",
       "      <td>7605</td>\n",
       "      <td>4838</td>\n",
       "      <td>False</td>\n",
       "      <td>2021-02-10 23:59:04</td>\n",
       "      <td>Blue Ridge Bank shares halted by NYSE after #b...</td>\n",
       "      <td>['bitcoin']</td>\n",
       "      <td>Twitter Web App</td>\n",
       "      <td>False</td>\n",
       "    </tr>\n",
       "    <tr>\n",
       "      <th>1</th>\n",
       "      <td>CryptoND</td>\n",
       "      <td>NaN</td>\n",
       "      <td>😎 BITCOINLIVE is a Dutch platform aimed at inf...</td>\n",
       "      <td>2019-10-17 20:12:10</td>\n",
       "      <td>6769.0</td>\n",
       "      <td>1532</td>\n",
       "      <td>25483</td>\n",
       "      <td>False</td>\n",
       "      <td>2021-02-10 23:58:48</td>\n",
       "      <td>😎 Today, that's this #Thursday, we will do a \"...</td>\n",
       "      <td>['Thursday', 'Btc', 'wallet', 'security']</td>\n",
       "      <td>Twitter for Android</td>\n",
       "      <td>False</td>\n",
       "    </tr>\n",
       "  </tbody>\n",
       "</table>\n",
       "</div>"
      ],
      "text/plain": [
       "       user_name user_location  \\\n",
       "0  DeSota Wilson   Atlanta, GA   \n",
       "1       CryptoND           NaN   \n",
       "\n",
       "                                    user_description         user_created  \\\n",
       "0  Biz Consultant, real estate, fintech, startups...  2009-04-26 20:05:09   \n",
       "1  😎 BITCOINLIVE is a Dutch platform aimed at inf...  2019-10-17 20:12:10   \n",
       "\n",
       "  user_followers user_friends user_favourites user_verified  \\\n",
       "0         8534.0         7605            4838         False   \n",
       "1         6769.0         1532           25483         False   \n",
       "\n",
       "                  date                                               text  \\\n",
       "0  2021-02-10 23:59:04  Blue Ridge Bank shares halted by NYSE after #b...   \n",
       "1  2021-02-10 23:58:48  😎 Today, that's this #Thursday, we will do a \"...   \n",
       "\n",
       "                                    hashtags               source is_retweet  \n",
       "0                                ['bitcoin']      Twitter Web App      False  \n",
       "1  ['Thursday', 'Btc', 'wallet', 'security']  Twitter for Android      False  "
      ]
     },
     "execution_count": 1,
     "metadata": {},
     "output_type": "execute_result"
    }
   ],
   "source": [
    "import pandas as pd\n",
    "tweets_df = pd.read_csv('../dataset/bitcoin-tweets/Bitcoin_tweets.csv', dtype='unicode')\n",
    "tweets_df.head(2)"
   ]
  },
  {
   "cell_type": "markdown",
   "id": "110d8ca6-e9a2-4ed9-93dc-f3a9ada4713e",
   "metadata": {},
   "source": [
    "## Cleaning up the dataset"
   ]
  },
  {
   "cell_type": "code",
   "execution_count": 6,
   "id": "dad58011-9d66-4240-b216-79d331396214",
   "metadata": {},
   "outputs": [],
   "source": [
    "tweets_df.dropna(subset=['text'], inplace=True)\n",
    "# tweets_df.text.str.replace('', )"
   ]
  },
  {
   "cell_type": "markdown",
   "id": "a60fc421-fd34-4c44-b10b-eaa350a4a09b",
   "metadata": {},
   "source": [
    "## Sentiment Prediction using VADER"
   ]
  },
  {
   "cell_type": "code",
   "execution_count": 66,
   "id": "e10a478f-8885-472c-9b33-f332bbc15484",
   "metadata": {},
   "outputs": [
    {
     "data": {
      "text/html": [
       "<div>\n",
       "<style scoped>\n",
       "    .dataframe tbody tr th:only-of-type {\n",
       "        vertical-align: middle;\n",
       "    }\n",
       "\n",
       "    .dataframe tbody tr th {\n",
       "        vertical-align: top;\n",
       "    }\n",
       "\n",
       "    .dataframe thead th {\n",
       "        text-align: right;\n",
       "    }\n",
       "</style>\n",
       "<table border=\"1\" class=\"dataframe\">\n",
       "  <thead>\n",
       "    <tr style=\"text-align: right;\">\n",
       "      <th></th>\n",
       "      <th>text</th>\n",
       "    </tr>\n",
       "  </thead>\n",
       "  <tbody>\n",
       "    <tr>\n",
       "      <th>1071524</th>\n",
       "      <td>New Post: Filecoin, Litecoin and VeChain Price...</td>\n",
       "    </tr>\n",
       "    <tr>\n",
       "      <th>2188123</th>\n",
       "      <td>Previously, #alienworlds wrote that they were ...</td>\n",
       "    </tr>\n",
       "    <tr>\n",
       "      <th>1185431</th>\n",
       "      <td>@coinbase ✅With solar energy comes #BTC, #Eth ...</td>\n",
       "    </tr>\n",
       "  </tbody>\n",
       "</table>\n",
       "</div>"
      ],
      "text/plain": [
       "                                                      text\n",
       "1071524  New Post: Filecoin, Litecoin and VeChain Price...\n",
       "2188123  Previously, #alienworlds wrote that they were ...\n",
       "1185431  @coinbase ✅With solar energy comes #BTC, #Eth ..."
      ]
     },
     "execution_count": 66,
     "metadata": {},
     "output_type": "execute_result"
    }
   ],
   "source": [
    "from vaderSentiment.vaderSentiment import SentimentIntensityAnalyzer\n",
    "sample_tweets = pd.DataFrame()\n",
    "sample_tweets['text'] = tweets_df['text'].sample(n=10, random_state=0)\n",
    "analyzer = SentimentIntensityAnalyzer()\n",
    "sample_tweets.head(3)"
   ]
  },
  {
   "cell_type": "code",
   "execution_count": 67,
   "id": "7e8472e3-c6f0-4e9e-a7ec-b671382b2c64",
   "metadata": {
    "tags": []
   },
   "outputs": [],
   "source": [
    "import json\n",
    "def extract_vader_sentiment(polarity_scores):\n",
    "    if polarity_scores['compound']>= 0.05:\n",
    "        return 1 # positive\n",
    "    elif polarity_scores['compound']<= -0.05:\n",
    "        return -1 # negative\n",
    "    return 0 # neutral\n",
    "\n",
    "def apply_vader(tweet):\n",
    "    polarity_scores = analyzer.polarity_scores(tweet)\n",
    "    sentiment = extract_vader_sentiment(polarity_scores)\n",
    "    return pd.Series([polarity_scores, sentiment])\n",
    "\n",
    "sample_tweets[['vader_polarity', 'vader_sentiment']] = sample_tweets.apply(lambda row: apply_vader(row[0]), axis=1)"
   ]
  },
  {
   "cell_type": "code",
   "execution_count": 71,
   "id": "a1656213-79d3-4cff-8b6d-b6b23800e5ed",
   "metadata": {},
   "outputs": [
    {
     "name": "stdout",
     "output_type": "stream",
     "text": [
      "Sentiment: 0\n",
      "New Post: Filecoin, Litecoin and VeChain Price Analysis: 15 August https://t.co/MOeAy0r23I\n",
      "\n",
      "#cryptonews #cryptocurrency #blockchain #crypto #ethereum #btc #eth #litecoin #altcoins #bitcoinnews #bitcoins #ripple #cryptomining #coinbase #cryptocurrencies #investing https://t.co/JRGjsu2TQP\n",
      "\n",
      "\n",
      "\n",
      "Sentiment: -1\n",
      "Previously, #alienworlds wrote that they were not going to work on the price. But before the fall, they retweeted that the big whale had invested in #tlm. After the price started to fall. These scammers are cheating again, luring people in, then they are robbed! #eth #BTC #XRP https://t.co/yc1BIz4cAU\n",
      "\n",
      "\n",
      "\n",
      "Sentiment: 1\n",
      "@coinbase ✅With solar energy comes #BTC, #Eth $doge mining\n",
      "✅Decentralized Bitcoin mining\n",
      "✅Mining partnership opportunity\n",
      "🚀#Solarmoon👇\n",
      "Conctract:0x5f00052b8c81a799b4f3bbc9ea2a1b7ecd06fba6\n",
      "Exchange: PANCAKE https://t.co/nOCCYJCvnT\n",
      "\n",
      "\n",
      "\n",
      "Sentiment: 1\n",
      "Demand for the Ethereum Name Service is currently standing at record highs, thanks to new registrations, renewals, and lower gas fees. \n",
      "\n",
      "Read more- https://t.co/uzoDM1HJTp \n",
      "\n",
      "#ethereum #bitcoin #cryptocurrency #crypto #blockchain #btc #eth #litecoin #trading #bitcoinmining #nft https://t.co/jYYLqUS9cN\n",
      "\n",
      "\n",
      "\n",
      "Sentiment: 1\n",
      "Bitcoin price reclaims $30K as Bitcoin Cash hits fresh record low against BTC #bybit #bitcoin #club88 #bybitchallenge https://t.co/Rq3e3rXloW\n",
      "\n",
      "\n",
      "\n",
      "Sentiment: 1\n",
      "@AirdropStario This project is very good and strong! I think very soon this project will climb to the highest peak of success....so, join all friends 👍💯\n",
      "@kskhbh2\n",
      "@kbjdove1\n",
      "@wooyb73\n",
      "\n",
      "#cryptocurrency #Bitcoin #Airdrop #BSC #Bitcoin #ETH #CyprusToken #CYP #Airdropstario\n",
      "\n",
      "\n",
      "\n",
      "Sentiment: 1\n",
      "At some point investors will cotton-on to the benefits of #Chia #XCH like the fact it uses a tiny fraction of the energy #Bitcoin or #ETH does.\n",
      "\n",
      "\n",
      "\n",
      "Sentiment: 1\n",
      "@WackyGods @FomoMofoNFT @memnfts Buying $LUFFY right now is a ticket out of the simulation.\n",
      "Remember; 1 or 2 fat candles can change your life, be ready for it.\n",
      "@luffyinutoken\n",
      "#LUFFY\n",
      "#LuffyV2\n",
      "#Luffytoken\n",
      "#LUFFYCREW\n",
      "#CryptoCurrency\n",
      "#NFT\n",
      "#P2E\n",
      "#ETH\n",
      "#BTC https://t.co/Dpd5R3BF3d\n",
      "\n",
      "\n",
      "\n",
      "Sentiment: 1\n",
      "#businessman #bitcoin #tumblr #twitter #facebook #instagram #dogecoin #socialmedia #tiktok #doge #deal #gift #gifts #giftideas #shop #shopping #affiliatemarketing  #amazon #Onlineshopping Overstock Deals https://t.co/EynvCaGffr\n",
      "\n",
      "\n",
      "\n",
      "Sentiment: 0\n",
      "@BSCGemsAlert ofc I buy $HTF coz is next generation of a metaverse in the world with sport and health subject.\n",
      "\n",
      "#HTF #BSC  #BSCGems  #NFT  #BTC\n",
      "\n",
      "\n",
      "\n"
     ]
    }
   ],
   "source": [
    "for tweet, sentiment in zip(sample_tweets['text'], sample_tweets['vader_sentiment']):\n",
    "    print(f'Sentiment: {sentiment}')\n",
    "    print(tweet)\n",
    "    print('\\n\\n')"
   ]
  },
  {
   "cell_type": "code",
   "execution_count": null,
   "id": "11a2785a-683b-4a35-99af-9a91ec870df0",
   "metadata": {},
   "outputs": [],
   "source": []
  }
 ],
 "metadata": {
  "kernelspec": {
   "display_name": "hackathon22",
   "language": "python",
   "name": "hackathon22"
  },
  "language_info": {
   "codemirror_mode": {
    "name": "ipython",
    "version": 3
   },
   "file_extension": ".py",
   "mimetype": "text/x-python",
   "name": "python",
   "nbconvert_exporter": "python",
   "pygments_lexer": "ipython3",
   "version": "3.11.0"
  }
 },
 "nbformat": 4,
 "nbformat_minor": 5
}
